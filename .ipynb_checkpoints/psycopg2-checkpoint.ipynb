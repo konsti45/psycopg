{
 "cells": [
  {
   "cell_type": "code",
   "execution_count": 1,
   "id": "714fd944-f407-4308-b5aa-2c8c5f5892ff",
   "metadata": {},
   "outputs": [
    {
     "name": "stdout",
     "output_type": "stream",
     "text": [
      "(2, 'Robin', 22500, 'D1')\n",
      "(3, 'Xavier', 30000, 'D2')\n"
     ]
    }
   ],
   "source": [
    "import psycopg2\n",
    "\n",
    "# define database credentials (not defined in file in practice)\n",
    "db_host = \"localhost\"\n",
    "db_port = 5432\n",
    "db_name = \"ex3\"\n",
    "db_user = \"postgres\"\n",
    "db_password = \"asdf\"\n",
    "\n",
    "# variables for finally block\n",
    "conn = None\n",
    "cur = None\n",
    "\n",
    "# try block for error handling\n",
    "try:\n",
    "    # open a database connection\n",
    "    # executed code should be between .connect() and .close()\n",
    "    conn = psycopg2.connect(\n",
    "        host = db_host,\n",
    "        port = db_port,\n",
    "        database = db_name,\n",
    "        user = db_user,\n",
    "        password = db_password)\n",
    "    \n",
    "    # open cursor for database operatrions\n",
    "    cur = conn.cursor()\n",
    "\n",
    "    drop_table = \"DROP TABLE IF EXISTS employee\"\n",
    "    # drop table first (in this example PK would be used several times, if executed multiple times)\n",
    "    cur.execute(drop_table)\n",
    "    \n",
    "    # create a table like in sql\n",
    "    create_script = \"\"\" CREATE TABLE IF NOT EXISTS employee (\n",
    "                            ID INT PRIMARY KEY,\n",
    "                            Name varchar(40) NOT NULL,\n",
    "                            Salary INT,\n",
    "                            DeptID varchar (30)) \"\"\"\n",
    "    # execute\n",
    "    cur.execute(create_script)\n",
    "\n",
    "    # insert values in a table\n",
    "    # use placeholders %s to avoid sql injection\n",
    "    insert_script = \"\"\"INSERT INTO Employee (id, name, salary, deptid) VALUES (%s, %s, %s, %s)\"\"\"\n",
    "    # insert a single tuple\n",
    "    insert_values = (1, \"Peter\", 12000, \"D1\")\n",
    "    # first arg is insert script, second arg are values\n",
    "    cur.execute(insert_script, insert_values)\n",
    "    # insert multiple tuples\n",
    "    insert_values = [(2, \"Robin\", 15000, \"D1\"), (3, \"Xavier\", 20000, \"D2\")]\n",
    "    for record in insert_values:\n",
    "        cur.execute(insert_script, record)\n",
    "\n",
    "    # update values in a table\n",
    "    update_script = \"UPDATE employee SET salary = salary + (salary * 0.5)\"\n",
    "    cur.execute(update_script)\n",
    "\n",
    "    # delete values in a table\n",
    "    delete_script = \"DELETE FROM employee WHERE name = %s\"\n",
    "    delete_record = (\"James\",)\n",
    "    cur.execute(delete_script, delete_record)\n",
    "\n",
    "    # fetch data from the database\n",
    "    cur.execute(\"SELECT * FROM EMPLOYEE\")\n",
    "    # print(cur.fetchall())\n",
    "    for record in cur.fetchall():\n",
    "        print(record)\n",
    "\n",
    "\n",
    "    # save any transactions that were done\n",
    "    conn.commit()\n",
    "except Exception as error:\n",
    "    print(error)\n",
    "finally:\n",
    "    # close cursor and database connection, even if an error occurs in the try block\n",
    "    if cur is not None:\n",
    "        # close cursor\n",
    "        cur.close()\n",
    "    if cur is not None:\n",
    "        # close the database connection\n",
    "        conn.close()\n"
   ]
  },
  {
   "cell_type": "code",
   "execution_count": null,
   "id": "7ebe51da",
   "metadata": {},
   "outputs": [],
   "source": []
  }
 ],
 "metadata": {
  "kernelspec": {
   "display_name": "Python 3 (ipykernel)",
   "language": "python",
   "name": "python3"
  },
  "language_info": {
   "codemirror_mode": {
    "name": "ipython",
    "version": 3
   },
   "file_extension": ".py",
   "mimetype": "text/x-python",
   "name": "python",
   "nbconvert_exporter": "python",
   "pygments_lexer": "ipython3",
   "version": "3.9.7"
  },
  "vscode": {
   "interpreter": {
    "hash": "558295fb04de5dda46e625e3d08d96db620c226a0663caf0773fdadfa7be06e4"
   }
  }
 },
 "nbformat": 4,
 "nbformat_minor": 5
}
